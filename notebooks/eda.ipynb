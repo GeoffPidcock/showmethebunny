{
 "cells": [
  {
   "cell_type": "markdown",
   "metadata": {},
   "source": [
    "# showbags data\n",
    "Extracted using playwright on April 12th from [the royal easter show website](https://www.eastershow.com.au/explore/showbags/)\n",
    "\n",
    "`data/showbags/showbags.csv`"
   ]
  },
  {
   "cell_type": "code",
   "execution_count": 1,
   "metadata": {},
   "outputs": [
    {
     "name": "stdout",
     "output_type": "stream",
     "text": [
      "<class 'pandas.core.frame.DataFrame'>\n",
      "RangeIndex: 408 entries, 0 to 407\n",
      "Data columns (total 10 columns):\n",
      " #   Column                Non-Null Count  Dtype  \n",
      "---  ------                --------------  -----  \n",
      " 0   id                    408 non-null    object \n",
      " 1   name                  408 non-null    object \n",
      " 2   price                 408 non-null    object \n",
      " 3   stand_numbers         408 non-null    object \n",
      " 4   image_url             408 non-null    object \n",
      " 5   included_items        408 non-null    object \n",
      " 6   retail_value          408 non-null    object \n",
      " 7   distributor           408 non-null    object \n",
      " 8   price_numeric         408 non-null    float64\n",
      " 9   retail_value_numeric  408 non-null    float64\n",
      "dtypes: float64(2), object(8)\n",
      "memory usage: 32.0+ KB\n"
     ]
    }
   ],
   "source": [
    "import pandas as pd\n",
    "data = pd.read_csv('../data/showbags/showbags.csv')\n",
    "data.info()"
   ]
  },
  {
   "cell_type": "code",
   "execution_count": 2,
   "metadata": {},
   "outputs": [
    {
     "data": {
      "text/html": [
       "<div>\n",
       "<style scoped>\n",
       "    .dataframe tbody tr th:only-of-type {\n",
       "        vertical-align: middle;\n",
       "    }\n",
       "\n",
       "    .dataframe tbody tr th {\n",
       "        vertical-align: top;\n",
       "    }\n",
       "\n",
       "    .dataframe thead th {\n",
       "        text-align: right;\n",
       "    }\n",
       "</style>\n",
       "<table border=\"1\" class=\"dataframe\">\n",
       "  <thead>\n",
       "    <tr style=\"text-align: right;\">\n",
       "      <th></th>\n",
       "      <th>id</th>\n",
       "      <th>name</th>\n",
       "      <th>price</th>\n",
       "      <th>stand_numbers</th>\n",
       "      <th>image_url</th>\n",
       "      <th>included_items</th>\n",
       "      <th>retail_value</th>\n",
       "      <th>distributor</th>\n",
       "      <th>price_numeric</th>\n",
       "      <th>retail_value_numeric</th>\n",
       "    </tr>\n",
       "  </thead>\n",
       "  <tbody>\n",
       "    <tr>\n",
       "      <th>0</th>\n",
       "      <td>217dd2a7-fb42-46db-98e0-fceedec81e6c</td>\n",
       "      <td>Fyna Licorice Bag</td>\n",
       "      <td>$15</td>\n",
       "      <td>Stand Numbers: 1,14</td>\n",
       "      <td>https://www.eastershow.com.au/contentassets/9d...</td>\n",
       "      <td>['1x 200g Milk Chocolate Bites $3.50', '1x 230...</td>\n",
       "      <td>Total Retail Value: $16.00</td>\n",
       "      <td>HUNTER LEISURE P/LThe content of this bag is s...</td>\n",
       "      <td>15.0</td>\n",
       "      <td>16.00</td>\n",
       "    </tr>\n",
       "    <tr>\n",
       "      <th>1</th>\n",
       "      <td>a58c3b5b-9869-4930-8fbe-cf59ed6846b2</td>\n",
       "      <td>Cadbury Dairy Milk Showbag</td>\n",
       "      <td>$6.00</td>\n",
       "      <td>Stand Numbers: 003, 004, 010, 012, 013, 016, 0...</td>\n",
       "      <td>https://www.eastershow.com.au/contentassets/8b...</td>\n",
       "      <td>['12x 12g Bite Size Dairy Milk  $0.58', '1x 15...</td>\n",
       "      <td>Total Retail Value: $8.70</td>\n",
       "      <td>BENSONS TRADING CO PTY LTDThe content of this ...</td>\n",
       "      <td>6.0</td>\n",
       "      <td>8.70</td>\n",
       "    </tr>\n",
       "    <tr>\n",
       "      <th>2</th>\n",
       "      <td>c2ee5ae9-c109-44e0-b6e9-846306c6f278</td>\n",
       "      <td>Cadbury Freddo Showbag</td>\n",
       "      <td>$6.00</td>\n",
       "      <td>Stand Numbers: 003, 004, 010, 012, 013, 016, 0...</td>\n",
       "      <td>https://www.eastershow.com.au/contentassets/d0...</td>\n",
       "      <td>['5x 12g Dairy Milk Freddo $0.70', '1x 12g Mil...</td>\n",
       "      <td>Total Retail Value: $7.22</td>\n",
       "      <td>BENSONS TRADING CO PTY LTDThe content of this ...</td>\n",
       "      <td>6.0</td>\n",
       "      <td>7.22</td>\n",
       "    </tr>\n",
       "    <tr>\n",
       "      <th>3</th>\n",
       "      <td>adc68bf8-a7d7-4ecb-9dc6-aab0186e6577</td>\n",
       "      <td>Cadbury Twirl Showbag</td>\n",
       "      <td>$10.00</td>\n",
       "      <td>Stand Numbers: 003, 004, 010, 012, 013, 016, 0...</td>\n",
       "      <td>https://www.eastershow.com.au/contentassets/85...</td>\n",
       "      <td>['8x 14g Bite Size Twirl $0.58', '6x 12g Bite ...</td>\n",
       "      <td>Total Retail Value: $14.12</td>\n",
       "      <td>BENSONS TRADING CO PTY LTDThe content of this ...</td>\n",
       "      <td>10.0</td>\n",
       "      <td>14.12</td>\n",
       "    </tr>\n",
       "    <tr>\n",
       "      <th>4</th>\n",
       "      <td>6011c150-1ba9-4c13-bcfc-7997a876af5e</td>\n",
       "      <td>Bag of Bubbles</td>\n",
       "      <td>$15.00</td>\n",
       "      <td>Stand Numbers: 11</td>\n",
       "      <td>https://www.eastershow.com.au/contentassets/f3...</td>\n",
       "      <td>['1x Choice of Big Eye Fish, Dinosaur or Unico...</td>\n",
       "      <td>Total Retail Value: $30.80</td>\n",
       "      <td>SHOWBAGS AUSTRALIA PTY LDThe content of this b...</td>\n",
       "      <td>15.0</td>\n",
       "      <td>30.80</td>\n",
       "    </tr>\n",
       "  </tbody>\n",
       "</table>\n",
       "</div>"
      ],
      "text/plain": [
       "                                     id                        name   price  \\\n",
       "0  217dd2a7-fb42-46db-98e0-fceedec81e6c           Fyna Licorice Bag     $15   \n",
       "1  a58c3b5b-9869-4930-8fbe-cf59ed6846b2  Cadbury Dairy Milk Showbag   $6.00   \n",
       "2  c2ee5ae9-c109-44e0-b6e9-846306c6f278      Cadbury Freddo Showbag   $6.00   \n",
       "3  adc68bf8-a7d7-4ecb-9dc6-aab0186e6577       Cadbury Twirl Showbag  $10.00   \n",
       "4  6011c150-1ba9-4c13-bcfc-7997a876af5e              Bag of Bubbles  $15.00   \n",
       "\n",
       "                                       stand_numbers  \\\n",
       "0                                Stand Numbers: 1,14   \n",
       "1  Stand Numbers: 003, 004, 010, 012, 013, 016, 0...   \n",
       "2  Stand Numbers: 003, 004, 010, 012, 013, 016, 0...   \n",
       "3  Stand Numbers: 003, 004, 010, 012, 013, 016, 0...   \n",
       "4                                  Stand Numbers: 11   \n",
       "\n",
       "                                           image_url  \\\n",
       "0  https://www.eastershow.com.au/contentassets/9d...   \n",
       "1  https://www.eastershow.com.au/contentassets/8b...   \n",
       "2  https://www.eastershow.com.au/contentassets/d0...   \n",
       "3  https://www.eastershow.com.au/contentassets/85...   \n",
       "4  https://www.eastershow.com.au/contentassets/f3...   \n",
       "\n",
       "                                      included_items  \\\n",
       "0  ['1x 200g Milk Chocolate Bites $3.50', '1x 230...   \n",
       "1  ['12x 12g Bite Size Dairy Milk  $0.58', '1x 15...   \n",
       "2  ['5x 12g Dairy Milk Freddo $0.70', '1x 12g Mil...   \n",
       "3  ['8x 14g Bite Size Twirl $0.58', '6x 12g Bite ...   \n",
       "4  ['1x Choice of Big Eye Fish, Dinosaur or Unico...   \n",
       "\n",
       "                 retail_value  \\\n",
       "0  Total Retail Value: $16.00   \n",
       "1   Total Retail Value: $8.70   \n",
       "2   Total Retail Value: $7.22   \n",
       "3  Total Retail Value: $14.12   \n",
       "4  Total Retail Value: $30.80   \n",
       "\n",
       "                                         distributor  price_numeric  \\\n",
       "0  HUNTER LEISURE P/LThe content of this bag is s...           15.0   \n",
       "1  BENSONS TRADING CO PTY LTDThe content of this ...            6.0   \n",
       "2  BENSONS TRADING CO PTY LTDThe content of this ...            6.0   \n",
       "3  BENSONS TRADING CO PTY LTDThe content of this ...           10.0   \n",
       "4  SHOWBAGS AUSTRALIA PTY LDThe content of this b...           15.0   \n",
       "\n",
       "   retail_value_numeric  \n",
       "0                 16.00  \n",
       "1                  8.70  \n",
       "2                  7.22  \n",
       "3                 14.12  \n",
       "4                 30.80  "
      ]
     },
     "execution_count": 2,
     "metadata": {},
     "output_type": "execute_result"
    }
   ],
   "source": [
    "data.head()"
   ]
  },
  {
   "cell_type": "markdown",
   "metadata": {},
   "source": [
    "An explanation of the features\n",
    "- Name - product name of thee showbag\n",
    "- Location (Stand Numbers) - where to go in the show\n",
    "- price_numeric - how much it costs\n",
    "- included_items - what's in there\n",
    "- retail_value_numeric - the total value of what's in the showbag\n",
    "\n",
    "If we want kids to be able to find the right showbag with natural language, we may need to extract details from the image - this could be a good use for mistral"
   ]
  },
  {
   "cell_type": "code",
   "execution_count": 5,
   "metadata": {},
   "outputs": [
    {
     "data": {
      "text/plain": [
       "id                                   217dd2a7-fb42-46db-98e0-fceedec81e6c\n",
       "name                                                    Fyna Licorice Bag\n",
       "price                                                                 $15\n",
       "stand_numbers                                         Stand Numbers: 1,14\n",
       "image_url               https://www.eastershow.com.au/contentassets/9d...\n",
       "included_items          ['1x 200g Milk Chocolate Bites $3.50', '1x 230...\n",
       "retail_value                                   Total Retail Value: $16.00\n",
       "distributor             HUNTER LEISURE P/LThe content of this bag is s...\n",
       "price_numeric                                                        15.0\n",
       "retail_value_numeric                                                 16.0\n",
       "Name: 0, dtype: object"
      ]
     },
     "execution_count": 5,
     "metadata": {},
     "output_type": "execute_result"
    }
   ],
   "source": [
    "data.iloc[0]"
   ]
  },
  {
   "cell_type": "code",
   "execution_count": 4,
   "metadata": {},
   "outputs": [
    {
     "data": {
      "image/jpeg": "[encoded data removed]",
      "text/plain": [
       "<IPython.core.display.Image object>"
      ]
     },
     "metadata": {},
     "output_type": "display_data"
    }
   ],
   "source": [
    "import requests\n",
    "from IPython.display import Image, display\n",
    "\n",
    "\n",
    "# Replace with the actual URL of the image\n",
    "image_url = data.iloc[0]['image_url']\n",
    "\n",
    "try:\n",
    "    # Fetch the image content\n",
    "    response = requests.get(image_url)\n",
    "    response.raise_for_status() # Raise an exception for bad status codes (like 404)\n",
    "\n",
    "    # Get the image content as bytes\n",
    "    image_data = response.content\n",
    "\n",
    "    # Create an Image object from the bytes data\n",
    "    img = Image(data=image_data)\n",
    "\n",
    "    # Display the image\n",
    "    display(img)\n",
    "\n",
    "except requests.exceptions.RequestException as e:\n",
    "    print(f\"Error fetching image: {e}\")\n",
    "except Exception as e:\n",
    "    print(f\"An error occurred: {e}\")\n"
   ]
  }
 ],
 "metadata": {
  "kernelspec": {
   "display_name": ".venv",
   "language": "python",
   "name": "python3"
  },
  "language_info": {
   "codemirror_mode": {
    "name": "ipython",
    "version": 3
   },
   "file_extension": ".py",
   "mimetype": "text/x-python",
   "name": "python",
   "nbconvert_exporter": "python",
   "pygments_lexer": "ipython3",
   "version": "3.11.11"
  }
 },
 "nbformat": 4,
 "nbformat_minor": 2
}
